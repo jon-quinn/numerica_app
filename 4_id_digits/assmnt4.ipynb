{
 "cells": [
  {
   "cell_type": "code",
   "execution_count": 21,
   "metadata": {},
   "outputs": [],
   "source": [
    "# Import statements and importing/reshaping data\n",
    "from keras.datasets import mnist\n",
    "from matplotlib import pyplot\n",
    "import numpy as np\n",
    "\n",
    "show_test = False\n",
    "\n",
    "(train_data, train_label), (test_data, test_label) = mnist.load_data()\n",
    "\n",
    "if show_test:\n",
    "    for i in range(9):\n",
    "        pyplot.subplot(330 + 1 + i)\n",
    "        pyplot.imshow(train_data[i], cmap=pyplot.get_cmap('gray'))\n",
    "        pyplot.show()\n",
    "\n",
    "# assume all datasets have same dimensions\n",
    "width = len(train_data[0])\n",
    "height = len(train_data[0][0])\n",
    "\n",
    "# reshape data to fit Ax = B. A = vectorized data, B = vectorized labels\n",
    "train_A = np.zeros((len(train_data), width*height))\n",
    "train_B = np.zeros((len(train_label), 10))\n",
    "for count, data in enumerate(train_data):\n",
    "    train_A[count] = data.flatten()\n",
    "    \n",
    "    label_val = train_label[count]\n",
    "    train_B[count][label_val] = 1\n",
    "\n",
    "if show_test:\n",
    "    for i in range(10):\n",
    "        print(f\"B: {train_B[i]}, label: {train_label[i]}\")"
   ]
  },
  {
   "cell_type": "code",
   "execution_count": null,
   "metadata": {},
   "outputs": [],
   "source": []
  }
 ],
 "metadata": {
  "kernelspec": {
   "display_name": ".venv",
   "language": "python",
   "name": "python3"
  },
  "language_info": {
   "codemirror_mode": {
    "name": "ipython",
    "version": 3
   },
   "file_extension": ".py",
   "mimetype": "text/x-python",
   "name": "python",
   "nbconvert_exporter": "python",
   "pygments_lexer": "ipython3",
   "version": "3.7.9"
  },
  "orig_nbformat": 4
 },
 "nbformat": 4,
 "nbformat_minor": 2
}
